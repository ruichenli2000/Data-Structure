{
  "nbformat": 4,
  "nbformat_minor": 0,
  "metadata": {
    "colab": {
      "provenance": [],
      "authorship_tag": "ABX9TyNAOpxiucK2BuR3ErPsIMon",
      "include_colab_link": true
    },
    "kernelspec": {
      "name": "python3",
      "display_name": "Python 3"
    },
    "language_info": {
      "name": "python"
    }
  },
  "cells": [
    {
      "cell_type": "markdown",
      "metadata": {
        "id": "view-in-github",
        "colab_type": "text"
      },
      "source": [
        "<a href=\"https://colab.research.google.com/github/ruichenli2000/Data-Structure/blob/main/HW2.ipynb\" target=\"_parent\"><img src=\"https://colab.research.google.com/assets/colab-badge.svg\" alt=\"Open In Colab\"/></a>"
      ]
    },
    {
      "cell_type": "code",
      "execution_count": 1,
      "metadata": {
        "colab": {
          "base_uri": "https://localhost:8080/"
        },
        "id": "3fQ2vcV7QPVk",
        "outputId": "9dc56e14-20e1-45e9-ea6a-397a56a95347",
        "collapsed": true
      },
      "outputs": [
        {
          "output_type": "stream",
          "name": "stdout",
          "text": [
            "Requirement already satisfied: gensim in /usr/local/lib/python3.11/dist-packages (4.3.3)\n",
            "Requirement already satisfied: numpy<2.0,>=1.18.5 in /usr/local/lib/python3.11/dist-packages (from gensim) (1.26.4)\n",
            "Requirement already satisfied: scipy<1.14.0,>=1.7.0 in /usr/local/lib/python3.11/dist-packages (from gensim) (1.13.1)\n",
            "Requirement already satisfied: smart-open>=1.8.1 in /usr/local/lib/python3.11/dist-packages (from gensim) (7.1.0)\n",
            "Requirement already satisfied: wrapt in /usr/local/lib/python3.11/dist-packages (from smart-open>=1.8.1->gensim) (1.17.2)\n"
          ]
        }
      ],
      "source": [
        "! pip install gensim"
      ]
    },
    {
      "cell_type": "code",
      "source": [
        "! pip install bertopic"
      ],
      "metadata": {
        "colab": {
          "base_uri": "https://localhost:8080/"
        },
        "id": "s3OQ8TA8cvs-",
        "outputId": "0b8a126b-3ddd-49f2-8c8d-e0ddac3ff168",
        "collapsed": true
      },
      "execution_count": 2,
      "outputs": [
        {
          "output_type": "stream",
          "name": "stdout",
          "text": [
            "Collecting bertopic\n",
            "  Downloading bertopic-0.16.4-py3-none-any.whl.metadata (23 kB)\n",
            "Collecting hdbscan>=0.8.29 (from bertopic)\n",
            "  Downloading hdbscan-0.8.40-cp311-cp311-manylinux_2_17_x86_64.manylinux2014_x86_64.whl.metadata (15 kB)\n",
            "Requirement already satisfied: numpy>=1.20.0 in /usr/local/lib/python3.11/dist-packages (from bertopic) (1.26.4)\n",
            "Requirement already satisfied: pandas>=1.1.5 in /usr/local/lib/python3.11/dist-packages (from bertopic) (2.2.2)\n",
            "Requirement already satisfied: plotly>=4.7.0 in /usr/local/lib/python3.11/dist-packages (from bertopic) (5.24.1)\n",
            "Requirement already satisfied: scikit-learn>=0.22.2.post1 in /usr/local/lib/python3.11/dist-packages (from bertopic) (1.6.1)\n",
            "Requirement already satisfied: sentence-transformers>=0.4.1 in /usr/local/lib/python3.11/dist-packages (from bertopic) (3.4.1)\n",
            "Requirement already satisfied: tqdm>=4.41.1 in /usr/local/lib/python3.11/dist-packages (from bertopic) (4.67.1)\n",
            "Collecting umap-learn>=0.5.0 (from bertopic)\n",
            "  Downloading umap_learn-0.5.7-py3-none-any.whl.metadata (21 kB)\n",
            "Requirement already satisfied: scipy>=1.0 in /usr/local/lib/python3.11/dist-packages (from hdbscan>=0.8.29->bertopic) (1.13.1)\n",
            "Requirement already satisfied: joblib>=1.0 in /usr/local/lib/python3.11/dist-packages (from hdbscan>=0.8.29->bertopic) (1.4.2)\n",
            "Requirement already satisfied: python-dateutil>=2.8.2 in /usr/local/lib/python3.11/dist-packages (from pandas>=1.1.5->bertopic) (2.8.2)\n",
            "Requirement already satisfied: pytz>=2020.1 in /usr/local/lib/python3.11/dist-packages (from pandas>=1.1.5->bertopic) (2025.1)\n",
            "Requirement already satisfied: tzdata>=2022.7 in /usr/local/lib/python3.11/dist-packages (from pandas>=1.1.5->bertopic) (2025.1)\n",
            "Requirement already satisfied: tenacity>=6.2.0 in /usr/local/lib/python3.11/dist-packages (from plotly>=4.7.0->bertopic) (9.0.0)\n",
            "Requirement already satisfied: packaging in /usr/local/lib/python3.11/dist-packages (from plotly>=4.7.0->bertopic) (24.2)\n",
            "Requirement already satisfied: threadpoolctl>=3.1.0 in /usr/local/lib/python3.11/dist-packages (from scikit-learn>=0.22.2.post1->bertopic) (3.5.0)\n",
            "Requirement already satisfied: transformers<5.0.0,>=4.41.0 in /usr/local/lib/python3.11/dist-packages (from sentence-transformers>=0.4.1->bertopic) (4.48.2)\n",
            "Requirement already satisfied: torch>=1.11.0 in /usr/local/lib/python3.11/dist-packages (from sentence-transformers>=0.4.1->bertopic) (2.5.1+cu124)\n",
            "Requirement already satisfied: huggingface-hub>=0.20.0 in /usr/local/lib/python3.11/dist-packages (from sentence-transformers>=0.4.1->bertopic) (0.28.1)\n",
            "Requirement already satisfied: Pillow in /usr/local/lib/python3.11/dist-packages (from sentence-transformers>=0.4.1->bertopic) (11.1.0)\n",
            "Requirement already satisfied: numba>=0.51.2 in /usr/local/lib/python3.11/dist-packages (from umap-learn>=0.5.0->bertopic) (0.61.0)\n",
            "Collecting pynndescent>=0.5 (from umap-learn>=0.5.0->bertopic)\n",
            "  Downloading pynndescent-0.5.13-py3-none-any.whl.metadata (6.8 kB)\n",
            "Requirement already satisfied: filelock in /usr/local/lib/python3.11/dist-packages (from huggingface-hub>=0.20.0->sentence-transformers>=0.4.1->bertopic) (3.17.0)\n",
            "Requirement already satisfied: fsspec>=2023.5.0 in /usr/local/lib/python3.11/dist-packages (from huggingface-hub>=0.20.0->sentence-transformers>=0.4.1->bertopic) (2024.10.0)\n",
            "Requirement already satisfied: pyyaml>=5.1 in /usr/local/lib/python3.11/dist-packages (from huggingface-hub>=0.20.0->sentence-transformers>=0.4.1->bertopic) (6.0.2)\n",
            "Requirement already satisfied: requests in /usr/local/lib/python3.11/dist-packages (from huggingface-hub>=0.20.0->sentence-transformers>=0.4.1->bertopic) (2.32.3)\n",
            "Requirement already satisfied: typing-extensions>=3.7.4.3 in /usr/local/lib/python3.11/dist-packages (from huggingface-hub>=0.20.0->sentence-transformers>=0.4.1->bertopic) (4.12.2)\n",
            "Requirement already satisfied: llvmlite<0.45,>=0.44.0dev0 in /usr/local/lib/python3.11/dist-packages (from numba>=0.51.2->umap-learn>=0.5.0->bertopic) (0.44.0)\n",
            "Requirement already satisfied: six>=1.5 in /usr/local/lib/python3.11/dist-packages (from python-dateutil>=2.8.2->pandas>=1.1.5->bertopic) (1.17.0)\n",
            "Requirement already satisfied: networkx in /usr/local/lib/python3.11/dist-packages (from torch>=1.11.0->sentence-transformers>=0.4.1->bertopic) (3.4.2)\n",
            "Requirement already satisfied: jinja2 in /usr/local/lib/python3.11/dist-packages (from torch>=1.11.0->sentence-transformers>=0.4.1->bertopic) (3.1.5)\n",
            "Collecting nvidia-cuda-nvrtc-cu12==12.4.127 (from torch>=1.11.0->sentence-transformers>=0.4.1->bertopic)\n",
            "  Downloading nvidia_cuda_nvrtc_cu12-12.4.127-py3-none-manylinux2014_x86_64.whl.metadata (1.5 kB)\n",
            "Collecting nvidia-cuda-runtime-cu12==12.4.127 (from torch>=1.11.0->sentence-transformers>=0.4.1->bertopic)\n",
            "  Downloading nvidia_cuda_runtime_cu12-12.4.127-py3-none-manylinux2014_x86_64.whl.metadata (1.5 kB)\n",
            "Collecting nvidia-cuda-cupti-cu12==12.4.127 (from torch>=1.11.0->sentence-transformers>=0.4.1->bertopic)\n",
            "  Downloading nvidia_cuda_cupti_cu12-12.4.127-py3-none-manylinux2014_x86_64.whl.metadata (1.6 kB)\n",
            "Collecting nvidia-cudnn-cu12==9.1.0.70 (from torch>=1.11.0->sentence-transformers>=0.4.1->bertopic)\n",
            "  Downloading nvidia_cudnn_cu12-9.1.0.70-py3-none-manylinux2014_x86_64.whl.metadata (1.6 kB)\n",
            "Collecting nvidia-cublas-cu12==12.4.5.8 (from torch>=1.11.0->sentence-transformers>=0.4.1->bertopic)\n",
            "  Downloading nvidia_cublas_cu12-12.4.5.8-py3-none-manylinux2014_x86_64.whl.metadata (1.5 kB)\n",
            "Collecting nvidia-cufft-cu12==11.2.1.3 (from torch>=1.11.0->sentence-transformers>=0.4.1->bertopic)\n",
            "  Downloading nvidia_cufft_cu12-11.2.1.3-py3-none-manylinux2014_x86_64.whl.metadata (1.5 kB)\n",
            "Collecting nvidia-curand-cu12==10.3.5.147 (from torch>=1.11.0->sentence-transformers>=0.4.1->bertopic)\n",
            "  Downloading nvidia_curand_cu12-10.3.5.147-py3-none-manylinux2014_x86_64.whl.metadata (1.5 kB)\n",
            "Collecting nvidia-cusolver-cu12==11.6.1.9 (from torch>=1.11.0->sentence-transformers>=0.4.1->bertopic)\n",
            "  Downloading nvidia_cusolver_cu12-11.6.1.9-py3-none-manylinux2014_x86_64.whl.metadata (1.6 kB)\n",
            "Collecting nvidia-cusparse-cu12==12.3.1.170 (from torch>=1.11.0->sentence-transformers>=0.4.1->bertopic)\n",
            "  Downloading nvidia_cusparse_cu12-12.3.1.170-py3-none-manylinux2014_x86_64.whl.metadata (1.6 kB)\n",
            "Requirement already satisfied: nvidia-nccl-cu12==2.21.5 in /usr/local/lib/python3.11/dist-packages (from torch>=1.11.0->sentence-transformers>=0.4.1->bertopic) (2.21.5)\n",
            "Requirement already satisfied: nvidia-nvtx-cu12==12.4.127 in /usr/local/lib/python3.11/dist-packages (from torch>=1.11.0->sentence-transformers>=0.4.1->bertopic) (12.4.127)\n",
            "Collecting nvidia-nvjitlink-cu12==12.4.127 (from torch>=1.11.0->sentence-transformers>=0.4.1->bertopic)\n",
            "  Downloading nvidia_nvjitlink_cu12-12.4.127-py3-none-manylinux2014_x86_64.whl.metadata (1.5 kB)\n",
            "Requirement already satisfied: triton==3.1.0 in /usr/local/lib/python3.11/dist-packages (from torch>=1.11.0->sentence-transformers>=0.4.1->bertopic) (3.1.0)\n",
            "Requirement already satisfied: sympy==1.13.1 in /usr/local/lib/python3.11/dist-packages (from torch>=1.11.0->sentence-transformers>=0.4.1->bertopic) (1.13.1)\n",
            "Requirement already satisfied: mpmath<1.4,>=1.1.0 in /usr/local/lib/python3.11/dist-packages (from sympy==1.13.1->torch>=1.11.0->sentence-transformers>=0.4.1->bertopic) (1.3.0)\n",
            "Requirement already satisfied: regex!=2019.12.17 in /usr/local/lib/python3.11/dist-packages (from transformers<5.0.0,>=4.41.0->sentence-transformers>=0.4.1->bertopic) (2024.11.6)\n",
            "Requirement already satisfied: tokenizers<0.22,>=0.21 in /usr/local/lib/python3.11/dist-packages (from transformers<5.0.0,>=4.41.0->sentence-transformers>=0.4.1->bertopic) (0.21.0)\n",
            "Requirement already satisfied: safetensors>=0.4.1 in /usr/local/lib/python3.11/dist-packages (from transformers<5.0.0,>=4.41.0->sentence-transformers>=0.4.1->bertopic) (0.5.2)\n",
            "Requirement already satisfied: MarkupSafe>=2.0 in /usr/local/lib/python3.11/dist-packages (from jinja2->torch>=1.11.0->sentence-transformers>=0.4.1->bertopic) (3.0.2)\n",
            "Requirement already satisfied: charset-normalizer<4,>=2 in /usr/local/lib/python3.11/dist-packages (from requests->huggingface-hub>=0.20.0->sentence-transformers>=0.4.1->bertopic) (3.4.1)\n",
            "Requirement already satisfied: idna<4,>=2.5 in /usr/local/lib/python3.11/dist-packages (from requests->huggingface-hub>=0.20.0->sentence-transformers>=0.4.1->bertopic) (3.10)\n",
            "Requirement already satisfied: urllib3<3,>=1.21.1 in /usr/local/lib/python3.11/dist-packages (from requests->huggingface-hub>=0.20.0->sentence-transformers>=0.4.1->bertopic) (2.3.0)\n",
            "Requirement already satisfied: certifi>=2017.4.17 in /usr/local/lib/python3.11/dist-packages (from requests->huggingface-hub>=0.20.0->sentence-transformers>=0.4.1->bertopic) (2025.1.31)\n",
            "Downloading bertopic-0.16.4-py3-none-any.whl (143 kB)\n",
            "\u001b[2K   \u001b[90m━━━━━━━━━━━━━━━━━━━━━━━━━━━━━━━━━━━━━━━━\u001b[0m \u001b[32m143.7/143.7 kB\u001b[0m \u001b[31m4.3 MB/s\u001b[0m eta \u001b[36m0:00:00\u001b[0m\n",
            "\u001b[?25hDownloading hdbscan-0.8.40-cp311-cp311-manylinux_2_17_x86_64.manylinux2014_x86_64.whl (4.6 MB)\n",
            "\u001b[2K   \u001b[90m━━━━━━━━━━━━━━━━━━━━━━━━━━━━━━━━━━━━━━━━\u001b[0m \u001b[32m4.6/4.6 MB\u001b[0m \u001b[31m19.2 MB/s\u001b[0m eta \u001b[36m0:00:00\u001b[0m\n",
            "\u001b[?25hDownloading umap_learn-0.5.7-py3-none-any.whl (88 kB)\n",
            "\u001b[2K   \u001b[90m━━━━━━━━━━━━━━━━━━━━━━━━━━━━━━━━━━━━━━━━\u001b[0m \u001b[32m88.8/88.8 kB\u001b[0m \u001b[31m3.7 MB/s\u001b[0m eta \u001b[36m0:00:00\u001b[0m\n",
            "\u001b[?25hDownloading pynndescent-0.5.13-py3-none-any.whl (56 kB)\n",
            "\u001b[2K   \u001b[90m━━━━━━━━━━━━━━━━━━━━━━━━━━━━━━━━━━━━━━━━\u001b[0m \u001b[32m56.9/56.9 kB\u001b[0m \u001b[31m3.9 MB/s\u001b[0m eta \u001b[36m0:00:00\u001b[0m\n",
            "\u001b[?25hDownloading nvidia_cublas_cu12-12.4.5.8-py3-none-manylinux2014_x86_64.whl (363.4 MB)\n",
            "\u001b[2K   \u001b[90m━━━━━━━━━━━━━━━━━━━━━━━━━━━━━━━━━━━━━━━━\u001b[0m \u001b[32m363.4/363.4 MB\u001b[0m \u001b[31m1.5 MB/s\u001b[0m eta \u001b[36m0:00:00\u001b[0m\n",
            "\u001b[?25hDownloading nvidia_cuda_cupti_cu12-12.4.127-py3-none-manylinux2014_x86_64.whl (13.8 MB)\n",
            "\u001b[2K   \u001b[90m━━━━━━━━━━━━━━━━━━━━━━━━━━━━━━━━━━━━━━━━\u001b[0m \u001b[32m13.8/13.8 MB\u001b[0m \u001b[31m92.9 MB/s\u001b[0m eta \u001b[36m0:00:00\u001b[0m\n",
            "\u001b[?25hDownloading nvidia_cuda_nvrtc_cu12-12.4.127-py3-none-manylinux2014_x86_64.whl (24.6 MB)\n",
            "\u001b[2K   \u001b[90m━━━━━━━━━━━━━━━━━━━━━━━━━━━━━━━━━━━━━━━━\u001b[0m \u001b[32m24.6/24.6 MB\u001b[0m \u001b[31m72.9 MB/s\u001b[0m eta \u001b[36m0:00:00\u001b[0m\n",
            "\u001b[?25hDownloading nvidia_cuda_runtime_cu12-12.4.127-py3-none-manylinux2014_x86_64.whl (883 kB)\n",
            "\u001b[2K   \u001b[90m━━━━━━━━━━━━━━━━━━━━━━━━━━━━━━━━━━━━━━━━\u001b[0m \u001b[32m883.7/883.7 kB\u001b[0m \u001b[31m48.5 MB/s\u001b[0m eta \u001b[36m0:00:00\u001b[0m\n",
            "\u001b[?25hDownloading nvidia_cudnn_cu12-9.1.0.70-py3-none-manylinux2014_x86_64.whl (664.8 MB)\n",
            "\u001b[2K   \u001b[90m━━━━━━━━━━━━━━━━━━━━━━━━━━━━━━━━━━━━━━━━\u001b[0m \u001b[32m664.8/664.8 MB\u001b[0m \u001b[31m2.8 MB/s\u001b[0m eta \u001b[36m0:00:00\u001b[0m\n",
            "\u001b[?25hDownloading nvidia_cufft_cu12-11.2.1.3-py3-none-manylinux2014_x86_64.whl (211.5 MB)\n",
            "\u001b[2K   \u001b[90m━━━━━━━━━━━━━━━━━━━━━━━━━━━━━━━━━━━━━━━━\u001b[0m \u001b[32m211.5/211.5 MB\u001b[0m \u001b[31m6.0 MB/s\u001b[0m eta \u001b[36m0:00:00\u001b[0m\n",
            "\u001b[?25hDownloading nvidia_curand_cu12-10.3.5.147-py3-none-manylinux2014_x86_64.whl (56.3 MB)\n",
            "\u001b[2K   \u001b[90m━━━━━━━━━━━━━━━━━━━━━━━━━━━━━━━━━━━━━━━━\u001b[0m \u001b[32m56.3/56.3 MB\u001b[0m \u001b[31m12.0 MB/s\u001b[0m eta \u001b[36m0:00:00\u001b[0m\n",
            "\u001b[?25hDownloading nvidia_cusolver_cu12-11.6.1.9-py3-none-manylinux2014_x86_64.whl (127.9 MB)\n",
            "\u001b[2K   \u001b[90m━━━━━━━━━━━━━━━━━━━━━━━━━━━━━━━━━━━━━━━━\u001b[0m \u001b[32m127.9/127.9 MB\u001b[0m \u001b[31m7.2 MB/s\u001b[0m eta \u001b[36m0:00:00\u001b[0m\n",
            "\u001b[?25hDownloading nvidia_cusparse_cu12-12.3.1.170-py3-none-manylinux2014_x86_64.whl (207.5 MB)\n",
            "\u001b[2K   \u001b[90m━━━━━━━━━━━━━━━━━━━━━━━━━━━━━━━━━━━━━━━━\u001b[0m \u001b[32m207.5/207.5 MB\u001b[0m \u001b[31m5.1 MB/s\u001b[0m eta \u001b[36m0:00:00\u001b[0m\n",
            "\u001b[?25hDownloading nvidia_nvjitlink_cu12-12.4.127-py3-none-manylinux2014_x86_64.whl (21.1 MB)\n",
            "\u001b[2K   \u001b[90m━━━━━━━━━━━━━━━━━━━━━━━━━━━━━━━━━━━━━━━━\u001b[0m \u001b[32m21.1/21.1 MB\u001b[0m \u001b[31m58.5 MB/s\u001b[0m eta \u001b[36m0:00:00\u001b[0m\n",
            "\u001b[?25hInstalling collected packages: nvidia-nvjitlink-cu12, nvidia-curand-cu12, nvidia-cufft-cu12, nvidia-cuda-runtime-cu12, nvidia-cuda-nvrtc-cu12, nvidia-cuda-cupti-cu12, nvidia-cublas-cu12, nvidia-cusparse-cu12, nvidia-cudnn-cu12, pynndescent, nvidia-cusolver-cu12, hdbscan, umap-learn, bertopic\n",
            "  Attempting uninstall: nvidia-nvjitlink-cu12\n",
            "    Found existing installation: nvidia-nvjitlink-cu12 12.5.82\n",
            "    Uninstalling nvidia-nvjitlink-cu12-12.5.82:\n",
            "      Successfully uninstalled nvidia-nvjitlink-cu12-12.5.82\n",
            "  Attempting uninstall: nvidia-curand-cu12\n",
            "    Found existing installation: nvidia-curand-cu12 10.3.6.82\n",
            "    Uninstalling nvidia-curand-cu12-10.3.6.82:\n",
            "      Successfully uninstalled nvidia-curand-cu12-10.3.6.82\n",
            "  Attempting uninstall: nvidia-cufft-cu12\n",
            "    Found existing installation: nvidia-cufft-cu12 11.2.3.61\n",
            "    Uninstalling nvidia-cufft-cu12-11.2.3.61:\n",
            "      Successfully uninstalled nvidia-cufft-cu12-11.2.3.61\n",
            "  Attempting uninstall: nvidia-cuda-runtime-cu12\n",
            "    Found existing installation: nvidia-cuda-runtime-cu12 12.5.82\n",
            "    Uninstalling nvidia-cuda-runtime-cu12-12.5.82:\n",
            "      Successfully uninstalled nvidia-cuda-runtime-cu12-12.5.82\n",
            "  Attempting uninstall: nvidia-cuda-nvrtc-cu12\n",
            "    Found existing installation: nvidia-cuda-nvrtc-cu12 12.5.82\n",
            "    Uninstalling nvidia-cuda-nvrtc-cu12-12.5.82:\n",
            "      Successfully uninstalled nvidia-cuda-nvrtc-cu12-12.5.82\n",
            "  Attempting uninstall: nvidia-cuda-cupti-cu12\n",
            "    Found existing installation: nvidia-cuda-cupti-cu12 12.5.82\n",
            "    Uninstalling nvidia-cuda-cupti-cu12-12.5.82:\n",
            "      Successfully uninstalled nvidia-cuda-cupti-cu12-12.5.82\n",
            "  Attempting uninstall: nvidia-cublas-cu12\n",
            "    Found existing installation: nvidia-cublas-cu12 12.5.3.2\n",
            "    Uninstalling nvidia-cublas-cu12-12.5.3.2:\n",
            "      Successfully uninstalled nvidia-cublas-cu12-12.5.3.2\n",
            "  Attempting uninstall: nvidia-cusparse-cu12\n",
            "    Found existing installation: nvidia-cusparse-cu12 12.5.1.3\n",
            "    Uninstalling nvidia-cusparse-cu12-12.5.1.3:\n",
            "      Successfully uninstalled nvidia-cusparse-cu12-12.5.1.3\n",
            "  Attempting uninstall: nvidia-cudnn-cu12\n",
            "    Found existing installation: nvidia-cudnn-cu12 9.3.0.75\n",
            "    Uninstalling nvidia-cudnn-cu12-9.3.0.75:\n",
            "      Successfully uninstalled nvidia-cudnn-cu12-9.3.0.75\n",
            "  Attempting uninstall: nvidia-cusolver-cu12\n",
            "    Found existing installation: nvidia-cusolver-cu12 11.6.3.83\n",
            "    Uninstalling nvidia-cusolver-cu12-11.6.3.83:\n",
            "      Successfully uninstalled nvidia-cusolver-cu12-11.6.3.83\n",
            "Successfully installed bertopic-0.16.4 hdbscan-0.8.40 nvidia-cublas-cu12-12.4.5.8 nvidia-cuda-cupti-cu12-12.4.127 nvidia-cuda-nvrtc-cu12-12.4.127 nvidia-cuda-runtime-cu12-12.4.127 nvidia-cudnn-cu12-9.1.0.70 nvidia-cufft-cu12-11.2.1.3 nvidia-curand-cu12-10.3.5.147 nvidia-cusolver-cu12-11.6.1.9 nvidia-cusparse-cu12-12.3.1.170 nvidia-nvjitlink-cu12-12.4.127 pynndescent-0.5.13 umap-learn-0.5.7\n"
          ]
        }
      ]
    },
    {
      "cell_type": "code",
      "source": [
        "import pandas as pd\n",
        "import requests\n",
        "import re\n",
        "from bs4 import BeautifulSoup\n",
        "import gensim\n",
        "from gensim.models.coherencemodel import CoherenceModel\n",
        "from bertopic import BERTopic\n",
        "from bertopic.vectorizers import ClassTfidfTransformer\n",
        "import nltk\n"
      ],
      "metadata": {
        "id": "MwCe96BnZ6zs"
      },
      "execution_count": 3,
      "outputs": []
    },
    {
      "cell_type": "code",
      "source": [
        "from google.colab import drive\n",
        "drive.mount('/content/drive')\n"
      ],
      "metadata": {
        "id": "j1fFjhbpZjnA",
        "colab": {
          "base_uri": "https://localhost:8080/",
          "height": 257
        },
        "collapsed": true,
        "outputId": "3498de27-31d3-4acf-d2a9-f1e4dcfd98d9"
      },
      "execution_count": 5,
      "outputs": [
        {
          "output_type": "stream",
          "name": "stdout",
          "text": [
            "Mounted at /content/drive\n"
          ]
        },
        {
          "output_type": "error",
          "ename": "ArrowInvalid",
          "evalue": "Not a Feather V1 or Arrow IPC file",
          "traceback": [
            "\u001b[0;31m---------------------------------------------------------------------------\u001b[0m",
            "\u001b[0;31mArrowInvalid\u001b[0m                              Traceback (most recent call last)",
            "\u001b[0;32m<ipython-input-5-c6247d945ef4>\u001b[0m in \u001b[0;36m<cell line: 0>\u001b[0;34m()\u001b[0m\n\u001b[1;32m      1\u001b[0m \u001b[0;32mfrom\u001b[0m \u001b[0mgoogle\u001b[0m\u001b[0;34m.\u001b[0m\u001b[0mcolab\u001b[0m \u001b[0;32mimport\u001b[0m \u001b[0mdrive\u001b[0m\u001b[0;34m\u001b[0m\u001b[0;34m\u001b[0m\u001b[0m\n\u001b[1;32m      2\u001b[0m \u001b[0mdrive\u001b[0m\u001b[0;34m.\u001b[0m\u001b[0mmount\u001b[0m\u001b[0;34m(\u001b[0m\u001b[0;34m'/content/drive'\u001b[0m\u001b[0;34m)\u001b[0m\u001b[0;34m\u001b[0m\u001b[0;34m\u001b[0m\u001b[0m\n\u001b[0;32m----> 3\u001b[0;31m \u001b[0mC_R\u001b[0m \u001b[0;34m=\u001b[0m \u001b[0mpd\u001b[0m\u001b[0;34m.\u001b[0m\u001b[0mread_feather\u001b[0m\u001b[0;34m(\u001b[0m\u001b[0;34m'/content/drive/MyDrive/colab_folder/Top100Wrestler.csv'\u001b[0m\u001b[0;34m)\u001b[0m\u001b[0;34m\u001b[0m\u001b[0;34m\u001b[0m\u001b[0m\n\u001b[0m",
            "\u001b[0;32m/usr/local/lib/python3.11/dist-packages/pandas/io/feather_format.py\u001b[0m in \u001b[0;36mread_feather\u001b[0;34m(path, columns, use_threads, storage_options, dtype_backend)\u001b[0m\n\u001b[1;32m    122\u001b[0m     ) as handles:\n\u001b[1;32m    123\u001b[0m         \u001b[0;32mif\u001b[0m \u001b[0mdtype_backend\u001b[0m \u001b[0;32mis\u001b[0m \u001b[0mlib\u001b[0m\u001b[0;34m.\u001b[0m\u001b[0mno_default\u001b[0m \u001b[0;32mand\u001b[0m \u001b[0;32mnot\u001b[0m \u001b[0musing_pyarrow_string_dtype\u001b[0m\u001b[0;34m(\u001b[0m\u001b[0;34m)\u001b[0m\u001b[0;34m:\u001b[0m\u001b[0;34m\u001b[0m\u001b[0;34m\u001b[0m\u001b[0m\n\u001b[0;32m--> 124\u001b[0;31m             return feather.read_feather(\n\u001b[0m\u001b[1;32m    125\u001b[0m                 \u001b[0mhandles\u001b[0m\u001b[0;34m.\u001b[0m\u001b[0mhandle\u001b[0m\u001b[0;34m,\u001b[0m \u001b[0mcolumns\u001b[0m\u001b[0;34m=\u001b[0m\u001b[0mcolumns\u001b[0m\u001b[0;34m,\u001b[0m \u001b[0muse_threads\u001b[0m\u001b[0;34m=\u001b[0m\u001b[0mbool\u001b[0m\u001b[0;34m(\u001b[0m\u001b[0muse_threads\u001b[0m\u001b[0;34m)\u001b[0m\u001b[0;34m\u001b[0m\u001b[0;34m\u001b[0m\u001b[0m\n\u001b[1;32m    126\u001b[0m             )\n",
            "\u001b[0;32m/usr/local/lib/python3.11/dist-packages/pyarrow/feather.py\u001b[0m in \u001b[0;36mread_feather\u001b[0;34m(source, columns, use_threads, memory_map, **kwargs)\u001b[0m\n\u001b[1;32m    224\u001b[0m         \u001b[0mThe\u001b[0m \u001b[0mcontents\u001b[0m \u001b[0mof\u001b[0m \u001b[0mthe\u001b[0m \u001b[0mFeather\u001b[0m \u001b[0mfile\u001b[0m \u001b[0;32mas\u001b[0m \u001b[0ma\u001b[0m \u001b[0mpandas\u001b[0m\u001b[0;34m.\u001b[0m\u001b[0mDataFrame\u001b[0m\u001b[0;34m\u001b[0m\u001b[0;34m\u001b[0m\u001b[0m\n\u001b[1;32m    225\u001b[0m     \"\"\"\n\u001b[0;32m--> 226\u001b[0;31m     return (read_table(\n\u001b[0m\u001b[1;32m    227\u001b[0m         \u001b[0msource\u001b[0m\u001b[0;34m,\u001b[0m \u001b[0mcolumns\u001b[0m\u001b[0;34m=\u001b[0m\u001b[0mcolumns\u001b[0m\u001b[0;34m,\u001b[0m \u001b[0mmemory_map\u001b[0m\u001b[0;34m=\u001b[0m\u001b[0mmemory_map\u001b[0m\u001b[0;34m,\u001b[0m\u001b[0;34m\u001b[0m\u001b[0;34m\u001b[0m\u001b[0m\n\u001b[1;32m    228\u001b[0m         use_threads=use_threads).to_pandas(use_threads=use_threads, **kwargs))\n",
            "\u001b[0;32m/usr/local/lib/python3.11/dist-packages/pyarrow/feather.py\u001b[0m in \u001b[0;36mread_table\u001b[0;34m(source, columns, memory_map, use_threads)\u001b[0m\n\u001b[1;32m    250\u001b[0m         \u001b[0mThe\u001b[0m \u001b[0mcontents\u001b[0m \u001b[0mof\u001b[0m \u001b[0mthe\u001b[0m \u001b[0mFeather\u001b[0m \u001b[0mfile\u001b[0m \u001b[0;32mas\u001b[0m \u001b[0ma\u001b[0m \u001b[0mpyarrow\u001b[0m\u001b[0;34m.\u001b[0m\u001b[0mTable\u001b[0m\u001b[0;34m\u001b[0m\u001b[0;34m\u001b[0m\u001b[0m\n\u001b[1;32m    251\u001b[0m     \"\"\"\n\u001b[0;32m--> 252\u001b[0;31m     reader = _feather.FeatherReader(\n\u001b[0m\u001b[1;32m    253\u001b[0m         source, use_memory_map=memory_map, use_threads=use_threads)\n\u001b[1;32m    254\u001b[0m \u001b[0;34m\u001b[0m\u001b[0m\n",
            "\u001b[0;32m/usr/local/lib/python3.11/dist-packages/pyarrow/_feather.pyx\u001b[0m in \u001b[0;36mpyarrow._feather.FeatherReader.__cinit__\u001b[0;34m()\u001b[0m\n",
            "\u001b[0;32m/usr/local/lib/python3.11/dist-packages/pyarrow/error.pxi\u001b[0m in \u001b[0;36mpyarrow.lib.pyarrow_internal_check_status\u001b[0;34m()\u001b[0m\n",
            "\u001b[0;32m/usr/local/lib/python3.11/dist-packages/pyarrow/error.pxi\u001b[0m in \u001b[0;36mpyarrow.lib.check_status\u001b[0;34m()\u001b[0m\n",
            "\u001b[0;31mArrowInvalid\u001b[0m: Not a Feather V1 or Arrow IPC file"
          ]
        }
      ]
    },
    {
      "cell_type": "code",
      "source": [
        "C_R = pd.read_csv('/content/drive/MyDrive/colab_folder/Top100Wrestler.csv')\n"
      ],
      "metadata": {
        "id": "bJsOD12CaL-0"
      },
      "execution_count": 8,
      "outputs": []
    },
    {
      "cell_type": "code",
      "source": [
        "!pip install langdetect"
      ],
      "metadata": {
        "colab": {
          "base_uri": "https://localhost:8080/"
        },
        "collapsed": true,
        "id": "vMdEe19wlfkg",
        "outputId": "7072f608-7db3-44df-c475-628b1f9824cc"
      },
      "execution_count": 30,
      "outputs": [
        {
          "output_type": "stream",
          "name": "stdout",
          "text": [
            "Collecting langdetect\n",
            "  Downloading langdetect-1.0.9.tar.gz (981 kB)\n",
            "\u001b[?25l     \u001b[90m━━━━━━━━━━━━━━━━━━━━━━━━━━━━━━━━━━━━━━━━\u001b[0m \u001b[32m0.0/981.5 kB\u001b[0m \u001b[31m?\u001b[0m eta \u001b[36m-:--:--\u001b[0m\r\u001b[2K     \u001b[91m━━━━━\u001b[0m\u001b[90m╺\u001b[0m\u001b[90m━━━━━━━━━━━━━━━━━━━━━━━━━━━━━━━━━━\u001b[0m \u001b[32m122.9/981.5 kB\u001b[0m \u001b[31m4.3 MB/s\u001b[0m eta \u001b[36m0:00:01\u001b[0m\r\u001b[2K     \u001b[91m━━━━━━━━━━━━━━━━━━━━━━━━━━━━━━━━━━━━━━━\u001b[0m\u001b[91m╸\u001b[0m \u001b[32m972.8/981.5 kB\u001b[0m \u001b[31m14.9 MB/s\u001b[0m eta \u001b[36m0:00:01\u001b[0m\r\u001b[2K     \u001b[90m━━━━━━━━━━━━━━━━━━━━━━━━━━━━━━━━━━━━━━━━\u001b[0m \u001b[32m981.5/981.5 kB\u001b[0m \u001b[31m11.8 MB/s\u001b[0m eta \u001b[36m0:00:00\u001b[0m\n",
            "\u001b[?25h  Preparing metadata (setup.py) ... \u001b[?25l\u001b[?25hdone\n",
            "Requirement already satisfied: six in /usr/local/lib/python3.11/dist-packages (from langdetect) (1.17.0)\n",
            "Building wheels for collected packages: langdetect\n",
            "  Building wheel for langdetect (setup.py) ... \u001b[?25l\u001b[?25hdone\n",
            "  Created wheel for langdetect: filename=langdetect-1.0.9-py3-none-any.whl size=993222 sha256=2f69510d33432d59a0a4e19aa7973e0fa47b340f229c122745f81c46698bd2a2\n",
            "  Stored in directory: /root/.cache/pip/wheels/0a/f2/b2/e5ca405801e05eb7c8ed5b3b4bcf1fcabcd6272c167640072e\n",
            "Successfully built langdetect\n",
            "Installing collected packages: langdetect\n",
            "Successfully installed langdetect-1.0.9\n"
          ]
        }
      ]
    },
    {
      "cell_type": "code",
      "source": [
        "from langdetect import detect"
      ],
      "metadata": {
        "id": "kk68XWitlcIK"
      },
      "execution_count": 31,
      "outputs": []
    },
    {
      "cell_type": "code",
      "source": [
        "def detect_language(text):\n",
        "    try:\n",
        "        return detect(text)\n",
        "    except:\n",
        "        return \"unknown\"\n",
        "C_R[\"Language\"] = C_R[\"Comment\"].apply(detect_language)\n",
        "\n",
        "C_R = C_R[C_R[\"Language\"] == \"en\"].reset_index(drop=True)"
      ],
      "metadata": {
        "id": "pFFYUiPOlt5W"
      },
      "execution_count": 32,
      "outputs": []
    },
    {
      "cell_type": "code",
      "source": [
        "ctfidf_model = ClassTfidfTransformer(\n",
        "  reduce_frequent_words=True\n",
        ")"
      ],
      "metadata": {
        "id": "wDS4dDLjas-h"
      },
      "execution_count": 33,
      "outputs": []
    },
    {
      "cell_type": "code",
      "source": [
        "topic_model = BERTopic(ctfidf_model=ctfidf_model)\n",
        "\n",
        "topics, probs = topic_model.fit_transform(C_R['Comment'].to_list())\n"
      ],
      "metadata": {
        "id": "9iYI1pONecR3"
      },
      "execution_count": 34,
      "outputs": []
    },
    {
      "cell_type": "code",
      "source": [
        "from joblib import load, dump\n"
      ],
      "metadata": {
        "id": "C3eQ3AkNb4Ky"
      },
      "execution_count": 12,
      "outputs": []
    },
    {
      "cell_type": "code",
      "source": [
        "dump([topic_model, topics, probs], '/content/drive/MyDrive/colab_folder/topic_model.joblib')"
      ],
      "metadata": {
        "colab": {
          "base_uri": "https://localhost:8080/"
        },
        "id": "FnvrtvjscUPU",
        "outputId": "a895108a-0197-438f-a79b-5b08013f35fc"
      },
      "execution_count": 35,
      "outputs": [
        {
          "output_type": "execute_result",
          "data": {
            "text/plain": [
              "['/content/drive/MyDrive/colab_folder/topic_model.joblib']"
            ]
          },
          "metadata": {},
          "execution_count": 35
        }
      ]
    },
    {
      "cell_type": "code",
      "source": [
        "topic_model, topics, probs = load(\n",
        "  '/content/drive/MyDrive/colab_folder/topic_model.joblib'\n",
        ")\n",
        "\n",
        "print(topic_model.get_topic_info().head(20))\n"
      ],
      "metadata": {
        "colab": {
          "base_uri": "https://localhost:8080/"
        },
        "id": "DcuV-mOfdJfz",
        "outputId": "7a46696a-5f52-49b8-c191-926231416d27"
      },
      "execution_count": 49,
      "outputs": [
        {
          "output_type": "stream",
          "name": "stdout",
          "text": [
            "    Topic  Count                                     Name  \\\n",
            "0      -1   1754                  -1_bryan_mic_promos_too   \n",
            "1       0    244                     0_punk_cm_punks_2011   \n",
            "2       1    240                    1_shes_she_her_female   \n",
            "3       2    219                2_japanese_japan_njpw_mma   \n",
            "4       3    213        3_undertaker_taker_deadman_streak   \n",
            "5       4    211        4_jericho_chris_jerichos_reinvent   \n",
            "6       5    191             5_smack_outfit_moves_swagger   \n",
            "7       6    189               6_aj_styles_tna_phenomenal   \n",
            "8       7    174       7_ospreay_ospreays_ricochet_flippy   \n",
            "9       8    157  8_favorite_favourite_wrestlemania_loved   \n",
            "10      9    156               9_kenny_omega_cleaner_bout   \n",
            "11     10    151                    10_10_give_ten_rating   \n",
            "12     11    126            11_shawn_michaels_rockers_hbk   \n",
            "13     12    125      12_okada_okadas_tanahashi_rainmaker   \n",
            "14     13    122           13_edge_christian_copeland_tlc   \n",
            "15     14    110            14_tanahashi_tana_hiroshi_ace   \n",
            "16     15    103                 15_asuka_shes_her_asukas   \n",
            "17     16    102            16_kurt_angle_olympic_amateur   \n",
            "18     17    102            17_flair_ric_flairs_steamboat   \n",
            "19     18     95                 18_sting_crow_surfer_nwo   \n",
            "\n",
            "                                       Representation  \\\n",
            "0   [bryan, mic, promos, too, criteria, heel, dani...   \n",
            "1   [punk, cm, punks, 2011, summer, hardy, jeff, p...   \n",
            "2   [shes, she, her, female, womens, stardom, wome...   \n",
            "3   [japanese, japan, njpw, mma, new, daisuke, njp...   \n",
            "4   [undertaker, taker, deadman, streak, gimmick, ...   \n",
            "5   [jericho, chris, jerichos, reinvent, y2j, wcw,...   \n",
            "6   [smack, outfit, moves, swagger, plex, forearm,...   \n",
            "7   [aj, styles, tna, phenomenal, ajs, club, bulle...   \n",
            "8   [ospreay, ospreays, ricochet, flippy, british,...   \n",
            "9   [favorite, favourite, wrestlemania, loved, kid...   \n",
            "10  [kenny, omega, cleaner, bout, omegas, kennys, ...   \n",
            "11  [10, give, ten, rating, 1010, giving, dishones...   \n",
            "12  [shawn, michaels, rockers, hbk, dx, heartbreak...   \n",
            "13  [okada, okadas, tanahashi, rainmaker, iwgp, 29...   \n",
            "14  [edge, christian, copeland, tlc, opportunist, ...   \n",
            "15  [tanahashi, tana, hiroshi, ace, tanahashis, nj...   \n",
            "16  [asuka, shes, her, asukas, she, womens, women,...   \n",
            "17  [kurt, angle, olympic, amateur, medal, comedic...   \n",
            "18  [flair, ric, flairs, steamboat, nature, boy, h...   \n",
            "19  [sting, crow, surfer, nwo, joker, wcw, stinger...   \n",
            "\n",
            "                                  Representative_Docs  \n",
            "0   [\"Macho Man\" Randy Savage is easily one of the...  \n",
            "1   [I'm going to preface this by saying CM Punk i...  \n",
            "2   [She was at one point, one of the best female ...  \n",
            "3   [An incredible wrestler and well known not onl...  \n",
            "4   [(POLITICAL BELIEFS SHOULD NOT DEFINE A WRESTL...  \n",
            "5   [His run in AEW, the whole CM Punk - Elite ord...  \n",
            "6   [Narcissist crybaby and very out of touch, sha...  \n",
            "7   [AJ Styles is in my top 5 favorite wrestlers o...  \n",
            "8   [In a great consideration to his talents inste...  \n",
            "9   [The best professional wrestler Ive ever seen ...  \n",
            "10  [Whenever you put Kenny Omega in the ring, he'...  \n",
            "11  [WoW, for a guy w/ 22 matches in the past two ...  \n",
            "12  [I knew it before he retired.  I knew it after...  \n",
            "13  [Ever since I saw this guy in 2015, I KNEW he ...  \n",
            "14  [\"Thank you, Edge! \" For me Edge is the greate...  \n",
            "15  [One of the greatest wrestlers of his era with...  \n",
            "16  [There's a more badass, more well-known Asuka ...  \n",
            "17  [Kurt Angle may arguably be considered one of ...  \n",
            "18  [It. The Pinnacle. The point where all lines c...  \n",
            "19  [From humble beginnings in The Blade Runners t...  \n"
          ]
        }
      ]
    },
    {
      "cell_type": "code",
      "source": [
        "print(topic_model.get_topic(0))\n"
      ],
      "metadata": {
        "colab": {
          "base_uri": "https://localhost:8080/"
        },
        "id": "SifbgQ7xietY",
        "outputId": "8ab58cd6-f157-4115-9844-20b0ab773133"
      },
      "execution_count": 47,
      "outputs": [
        {
          "output_type": "stream",
          "name": "stdout",
          "text": [
            "[('he', 0.26574618160305696), ('his', 0.26489134674308573), ('to', 0.2554191237261478), ('and', 0.2540949546659485), ('of', 0.253148628012211), ('in', 0.25243457775982436), ('is', 0.24960170698479303), ('was', 0.24957648363181317), ('that', 0.2447656948574153), ('the', 0.24456826776703366)]\n"
          ]
        }
      ]
    },
    {
      "cell_type": "code",
      "source": [
        "print(topic_model.get_document_info(C_R['Comment']))\n"
      ],
      "metadata": {
        "colab": {
          "base_uri": "https://localhost:8080/"
        },
        "id": "zJFc_S_Riix2",
        "outputId": "b7afaad6-f714-4757-d92e-f43b2e22b648"
      },
      "execution_count": 38,
      "outputs": [
        {
          "output_type": "stream",
          "name": "stdout",
          "text": [
            "                                               Document  Topic  \\\n",
            "0     John Bradshaw famously dubbed himself a wrestl...     61   \n",
            "1     I personally slightly edge Misawa over Kobashi...     46   \n",
            "2     If I'm being honest, Kobashi's probably one of...     46   \n",
            "3     Known for his devastating chops and iconic mov...     61   \n",
            "4     Kobashi was my first introduction to wrestling...     46   \n",
            "...                                                 ...    ...   \n",
            "9071  Good at everything, really. Quality matches, d...     -1   \n",
            "9072  He is already one of the greatest independent ...    154   \n",
            "9073  YouŽve got to see this guy live to belive how ...     -1   \n",
            "9074  Chris is awesome! Best in the world, best in t...     56   \n",
            "9075  Best Wrestler On The Planet... who's Danielson...     69   \n",
            "\n",
            "                                       Name  \\\n",
            "0           61_kenta_kobashi_burning_hammer   \n",
            "1           46_kobashi_misawa_cancer_hammer   \n",
            "2           46_kobashi_misawa_cancer_hammer   \n",
            "3           61_kenta_kobashi_burning_hammer   \n",
            "4           46_kobashi_misawa_cancer_hammer   \n",
            "...                                     ...   \n",
            "9071                -1_bryan_mic_promos_too   \n",
            "9072     154_ohno_kassius_ohnohero_heroohno   \n",
            "9073                -1_bryan_mic_promos_too   \n",
            "9074            56_hero_chris_heros_claudio   \n",
            "9075  69_danielson_danielsons_vicious_boots   \n",
            "\n",
            "                                         Representation  \\\n",
            "0     [kenta, kobashi, burning, hammer, williams, mi...   \n",
            "1     [kobashi, misawa, cancer, hammer, noah, burnin...   \n",
            "2     [kobashi, misawa, cancer, hammer, noah, burnin...   \n",
            "3     [kenta, kobashi, burning, hammer, williams, mi...   \n",
            "4     [kobashi, misawa, cancer, hammer, noah, burnin...   \n",
            "...                                                 ...   \n",
            "9071  [bryan, mic, promos, too, criteria, heel, dani...   \n",
            "9072  [ohno, kassius, ohnohero, heroohno, czw, wwenx...   \n",
            "9073  [bryan, mic, promos, too, criteria, heel, dani...   \n",
            "9074  [hero, chris, heros, claudio, released, chikar...   \n",
            "9075  [danielson, danielsons, vicious, boots, instal...   \n",
            "\n",
            "                                    Representative_Docs  \\\n",
            "0     [Kenta Kobashi is perhaps the greatest wrestle...   \n",
            "1     [Simply the greatest wrestler in history. No f...   \n",
            "2     [Simply the greatest wrestler in history. No f...   \n",
            "3     [Kenta Kobashi is perhaps the greatest wrestle...   \n",
            "4     [Simply the greatest wrestler in history. No f...   \n",
            "...                                                 ...   \n",
            "9071  [\"Macho Man\" Randy Savage is easily one of the...   \n",
            "9072  [An independent wrestling legend for sure. Ohn...   \n",
            "9073  [\"Macho Man\" Randy Savage is easily one of the...   \n",
            "9074  [Chris Hero is the best independent wrestler o...   \n",
            "9075  [Danielson is in my opinion the greatest wrest...   \n",
            "\n",
            "                                            Top_n_words  Probability  \\\n",
            "0     kenta - kobashi - burning - hammer - williams ...     0.595546   \n",
            "1     kobashi - misawa - cancer - hammer - noah - bu...     0.580744   \n",
            "2     kobashi - misawa - cancer - hammer - noah - bu...     1.000000   \n",
            "3     kenta - kobashi - burning - hammer - williams ...     0.445684   \n",
            "4     kobashi - misawa - cancer - hammer - noah - bu...     0.899015   \n",
            "...                                                 ...          ...   \n",
            "9071  bryan - mic - promos - too - criteria - heel -...     0.000000   \n",
            "9072  ohno - kassius - ohnohero - heroohno - czw - w...     1.000000   \n",
            "9073  bryan - mic - promos - too - criteria - heel -...     0.000000   \n",
            "9074  hero - chris - heros - claudio - released - ch...     0.797491   \n",
            "9075  danielson - danielsons - vicious - boots - ins...     0.648140   \n",
            "\n",
            "      Representative_document  \n",
            "0                       False  \n",
            "1                       False  \n",
            "2                       False  \n",
            "3                       False  \n",
            "4                       False  \n",
            "...                       ...  \n",
            "9071                    False  \n",
            "9072                     True  \n",
            "9073                    False  \n",
            "9074                    False  \n",
            "9075                    False  \n",
            "\n",
            "[9076 rows x 8 columns]\n"
          ]
        }
      ]
    },
    {
      "cell_type": "code",
      "source": [
        "print(topic_model.get_representative_docs(0))"
      ],
      "metadata": {
        "colab": {
          "base_uri": "https://localhost:8080/"
        },
        "id": "mZ9vufjCjcEk",
        "outputId": "f577adbe-b93a-4d5e-f359-9d130b8f4e1a"
      },
      "execution_count": 39,
      "outputs": [
        {
          "output_type": "stream",
          "name": "stdout",
          "text": [
            "['I\\'m going to preface this by saying CM Punk is my favorite wrestler of ALL TIME. That being said, CM Punk is one of the last wrestlers who are actually the complete package. He can easily get people invested into what he\\'s doing, he knows how to work the fans, he has a great understanding of in ring psychology as well as being able to give tribute to older wrestling with a modern twist to them. He has been apart of some of the greatest stories that AEW has ever seen, and throughout his career he has been able to make the most out of what was given to him. He\\'s polarizing for a reason and he\\'s a top 3 draw in professional wrestling today because of how good he is. His character work is damn near flawless, his ringwork is great, Punk just gets it. His match catalogue is amazing, I\\'m going to try to go in order for listing what I consider to be his classic matches, His series with Chris Hero, His dog collar match with Raven, his trilogy with Samoa Joe, All of his matches against Danielson, vs The Briscoes, His match against Aries to kick off the summer of punk, His matches against Jeff Hardy, His matches with Cena (Including the MITB 2011 and the Raw 2013 ones) The Undertaker match, Jericho in 2013, Lesnar at Summerslam, His match against Kingston, his matches with MJF, his match with Moxley at All Out, the renewal of the Samoa Joe feud. Just fantastic. And that\\'s just matches that I think are bonafide classics and don\\'t include just \"good\" matches that he may have had or matches that I personally think are great (the Adam Page match or the TLC 2011 match comes to mind). Not only that but boy can he tell a story. The feud with John Cena, he made the Kevin Nash thing watchable, the Chris Jericho story was probably the best story at WM28 minus Rock-Cena and then the next wrestlemania having the best story and match with Undertaker. His feud with the Rock was rock\\'s best work when he returned. His feud with Rey Mysterio, his story with Jeff Hardy which was a precursor to the Straight Edge Society. and of course his two summer of punks. Again, he is one of the last wrestlers who gets it. He knows how to make people feel and he knows how to straddle the line between real and \"kayfabe\" (I hate using that word to be honest). This is why I am giving him a 10. And it\\'s sad that we\\'re seeing a decline in his rating due to backstage stories that in the grand scheme of the wrestling business, aren\\'t that bad lol.', 'A wrestler who while I still like, his recent actions have made me reject him as one of my GOATs. Don\\'t get me wrong, I\\'ve liked Punk for most of his career. His run in ROH is legendary, his first WWE stuff was ok, but then you got stuff like his feud with Jeff Hardy and the SES (my favorite incarnations of Punk). And while I wasn\\'t watching wrestling with him during his prime BITW WWE title run, looking back I agree looking more into that era that the stuff that happened here was great. Just like how I agree WWE fucked him on that first run, and I agree with him and his name being used as a martyr figure and chanting it to put WWE in its place. And when he came back to AEW I was happy and excited, and there was some good stuff there like the Darby stuff, the Mox feud, the Eddie Kingston feud, and that one Daniel Garcia match on Rampage. But looking back at it now and especially since the incidents (which sadly are a big part of his legacy now and that I\\'ll get to), 2022-2024 CM Punk is one of my least favorite wrestlers in modern wrestling. Having slow and boring Anthony Fantano review-level \"bret hart tribute\" matches with he botches a lot (he botched the same move twice in a row for A PPV MAIN EVENT FOR THE WORLD TITLE). I watched some of Bret Hart\\'s stuff, and he wasn\\'t slow and boring. And then we get to the backstage stuff (lemme make this clear before I say it I am NOT a big young bucks/elite/jack perry fan so this has nothing to do with bias, and if they were FULLY in the wrong I would shit on them), where he comes off as a hypocritical crybaby (\"if you have a problem with me meet me in the back\" THEN YOU AND YOUR FANS GET DEFENSIVE WHEN THEY MEET YOU IN THE BACK? ), not caring about non his camp people or the company\\'s PR despite being given a lot (the Rocky III rant being on the day where they announce essentially \"his\" show), and playing the victim and blaming everyone else except the injury prone 45+-year-old man with anger issues that can\\'t keep his hands to himself (\"the young bucks took a victory lap\" despite being booed for an incident that has nothing to do with them as Perry was a punk endorsed guy). Also, his fanbase becoming one of the most annoying wrestling fanbases, acting like the man can do no wrong and still thinking it\\'s 2011 and CM Punk is in his prime, and his actions being a PART (mind you A PART, not the entire reason) why internet wrestling discourse has been so terrible with AEW. Making me root for when he comes back so my boy Drew can kill him and Punk inevitably gets injured again. In conclusion, Are there worse wrestlers out there? YES. Are there worse human beings in the wrestling business out there? YES. But that doesn\\'t mean Punk gets off scoff-free. A great wrestler with a tainted legacy.', 'CM Punk is an iconic figure in the world of professional wrestling. With a career marked by moments of great impact, Punk has stood out not only for his skills in the ring, but also for his provocative persona and his unparalleled ability on the microphone. Among the main themes of his career are his straight edge philosophy of life, his memorable feuds with other renowned wrestlers, and his unique fighting style. CM Punk has developed several personas throughout his career, each with a defining characteristic. His \"Straight Edge\" gimmick deserves an 8, standing out for its authenticity and ability to resonate with a specific audience, especially his offensive way of dealing with Jeff Hardy. The \"Best in the World\" persona gets a 10, being widely recognized as one of the most convincing and impactful in wrestling history, communicating with the audience, not a super hero Cena and not an Omega Heel Orton. The \"Heel Punk\" against Undertaker was also effective, with a score of 7, showing the most assholish side a heel can have. Ratifying all his roles, Punk knows how to be a fucking Punk. Punk is widely recognized as one of the best in wrestling in terms of trashtalk and promos. His skill on the microphone deserves a 10, standing out for his ability to engage the audience, build narratives and unsettle his opponents with sharp words. Punk\\'s greatest highlight is simply THE POWERBOMB THAT CHANGED THE WHOLE WRESTLER, EVERYONE LEARNED FROM PUNK THAT MUSCLES AND STRENGTH DON\\'T MATTER IF YOU\\'RE A DOOR ON THE MIC. CM Punk has been involved in some of wrestling\\'s most intense rivalries. The feuds against Chris Jericho (score 9) and Jeff Hardy (score 9) are particularly notable, both for the feud with Jericho abusing Punk\\'s lifestyle and his past, and for the exchange of roles with Jericho against Hardy, where Straight Edge feuded with Junkie Jeff, marked by emotional confrontations and high-level fights. The rivalry with John Cena gets an 11, and is considered one of the most important and exciting in WWE in recent times.Some of Punk\\'s rivalries haven\\'t reached the same level of success. The feud with Rey Mysterio, for example, deserves a 4, failing to capture the same attention and intensity as other Punk rivalries... Although CM Punk is a highly technical and charismatic wrestler, his athleticism is considered a weak area, with a score of 4. Since the beginning of his career, he hasn\\'t had anything positive, he wasn\\'t a high flyer, he wasn\\'t a powerhouse and much less technical. However, CM Punk\\'s finishing moves are iconic. The GTS (Go to Sleep) gets a 10, being a visually impressive and effective move. The Anaconda Vise submission deserves a 9, proving that moves that almost everyone uses these days are quite convincing in his hands. CM Punk is undoubtedly one of the most influential and polarizing wrestlers of his generation. His skill on the microphone and his ability to create memorable characters place him among the big names in professional wrestling. However, his lack of athleticism and some less impactful rivalries are points that could be improved. Compared to others in the same category, Punk stands out for his originality and cultural impact, but some technical limitations prevent him from achieving complete excellence. I started wrestling, in its consumed form in 2010-2012, where Punk was post nexus and the beginning of the MITB rivalry against Cena, I never understood how great he became at the time, but now almost 14 years later, I see that without him as a great pillar during this era of wrestling, many current events that we see mainly in WWE, would not appear, especially Rollins and Roman (The Shield) and the huge leverage for NXT, love it or hate it, without him, much of today would not be possible.']\n"
          ]
        }
      ]
    },
    {
      "cell_type": "code",
      "source": [
        "print(topic_model.generate_topic_labels())"
      ],
      "metadata": {
        "colab": {
          "base_uri": "https://localhost:8080/"
        },
        "id": "4XAo0t7Rjkon",
        "outputId": "bef0cc37-159b-487f-e285-f9b2bef00e03"
      },
      "execution_count": 40,
      "outputs": [
        {
          "output_type": "stream",
          "name": "stdout",
          "text": [
            "['-1_bryan_mic_promos', '0_punk_cm_punks', '1_shes_she_her', '2_japanese_japan_njpw', '3_undertaker_taker_deadman', '4_jericho_chris_jerichos', '5_smack_outfit_moves', '6_aj_styles_tna', '7_ospreay_ospreays_ricochet', '8_favorite_favourite_wrestlemania', '9_kenny_omega_cleaner', '10_10_give_ten', '11_shawn_michaels_rockers', '12_okada_okadas_tanahashi', '13_edge_christian_copeland', '14_tanahashi_tana_hiroshi', '15_asuka_shes_her', '16_kurt_angle_olympic', '17_flair_ric_flairs', '18_sting_crow_surfer', '19_austin_steve_cold', '20_gunther_gunthers_guntherwalter', '21_bret_hart_hitman', '22_misawa_mitsuharu_misawas', '23_aew_page_listened', '24_eddie_guerrero_eddies', '25_danielson_bryan_kofi', '26_heenan_manager_bobby', '27_ishii_tomohiro_pitbull', '28_foley_mick_mankind', '29_owens_kevin_zayn', '30_goat_vs_goats', '31_rock_hollywood_rocks', '32_naito_naitos_lij', '33_zayn_sami_underdog', '34_kota_ibushi_golden', '35_owen_brother_hart', '36_ad_undersized_mic', '37_tjpw_shoko_miyu', '38_mayu_iwatani_stardom', '39_joshi_shes_queen', '40_mic_shirts_utilize', '41_terry_funk_nwa', '42_announcer_commentator_finkel', '43_shibata_shibatas_headbutt', '44_heyman_paul_ecw', '45_overrated_spotfests_434day', '46_kobashi_misawa_cancer', '47_age_50_29', '48_underground_lucha_cueto', '49_daniel_bryan_blessing', '50_omega_precise_selfindulgent', '51_liger_jushin_junior', '52_bret_brets_realism', '53_joe_samoa_joes', '54_walter_walters_chops', '55_kawada_toshiaki_misawa', '56_hero_chris_heros', '57_joe_joes_tna', '58_bryan_bryans_region', '59_takeshita_ddt_higuchi', '60_tna_owned_wished', '61_kenta_kobashi_burning', '62_kenny_kennys_esp', '63_fenix_rey_lucha', '64_kairi_sane_mae', '65_ibushi_ibushis_kamigoye', '66_penta_lucha_miedo', '67_hbk_summerslam_02', '68_curt_hennig_mr', '69_danielson_danielsons_vicious', '70_toyota_manami_hokuto', '71_iyo_sky_womens', '72_babyface_babyfaces_represented', '73_muta_muto_keiji', '74_kazuchika_okada_rainmaker', '75_marufuji_naomichi_marufujis', '76_mauro_heels_pair', '77_nxt_roster_rosters', '78_shirai_io_she', '79_nxt_uk_exceptionnal', '80_dragunov_ilja_russian', '81_steamboat_ricky_savage', '82_jumbo_tsuruta_jumbos', '83_sami_ole_alot', '84_hiromu_takahashi_junior', '85_ace_universe_darkest', '86_ross_jim_commentary', '87_savage_randy_hogans', '88_syuri_giulia_ddm', '89_nakajima_ghc_kensuke', '90_bruno_sammartino_wwwf', '91_taue_pillars_akira', '92_takagi_shingo_dragon', '93_suzuki_scariest_mma', '94_kento_miyahara_ajpw', '95_meiko_satomura_gaea', '96_puroresu_puro_twentyplus', '97_nigel_mcguinness_aries', '98_generico_el_zayn', '99_beste_there_fragen', '100_hansen_stan_lariat', '101_konosuke_takeshita_konosukes', '102_macho_randy_savage', '103_gimmick_incomparable_preserved', '104_aja_kong_scream', '105_ajpw_shiga_letal', '106_kasai_jun_deathmatch', '107_doute_arsenals_minded', '108_tenryu_genichiro_grumpy', '109_sayama_tiger_mask', '110_catapult_hennigs_compensate', '111_steen_hinder_kevin', '112_ilja_carmelo_hayes', '113_cold_stone_bottom', '114_shingo_bomber_pumping', '115_io_female_integrating', '116_pentagon_miedo_lucha', '117_shiozaki_shiozakis_noah', '118_sareee_sarray_wondering', '119_katsuyori_shibata_hirooki', '120_suzu_prodigy_suzuki', '121_saint_johnny_escapologist', '122_kenoh_angry_kenou', '123_ko_prize_rudderless', '124_minoru_suzuki_pancrase', '125_flyer_highflyer_aaa', '126_inoki_ali_muhammad', '127_tetsuya_naito_naitos', '128_relish_workers_excite', '129_superprivileged_mainstreamcasual_nearfalls', '130_hokuto_akira_hokutos', '131_arisa_arisas_tsukasa', '132_roh_alreadygreat_ceilingsmashing', '133_noah_noahs_unmask', '134_gene_interviewer_okerlund', '135_der_zeiten_aller', '136_dragon_oung_rudos', '137_referee_shoes_red', '138_y2j_harrison_jericho', '139_kagetsu_stardom_oedo', '140_wows_shuns_reals', '141_dwayne_johnson_rock', '142_hashimoto_shinya_chono', '143_lucrative_hobbling_yinling', '144_akiyama_jun_rookie', '145_cowards_politicker_irresponsible', '146_clap_clapclapclap_insipid', '147_hayabusa_fmw_offers', '148_mick_orton_insidiously', '149_lou_thesz_hooker', '150_walter_gunther_reigning', '151_sasuke_mochizuki_michinoku', '152_paul_ecw_rah', '153_forwards_insne_offesne', '154_ohno_kassius_ohnohero']\n"
          ]
        }
      ]
    },
    {
      "cell_type": "code",
      "source": [
        "print(topic_model.reduce_topics(C_R['Comment'].to_list(), nr_topics=10))"
      ],
      "metadata": {
        "colab": {
          "base_uri": "https://localhost:8080/"
        },
        "id": "DdmCPRwEj190",
        "outputId": "594be90a-382a-426f-8499-5c598654c2a2"
      },
      "execution_count": 41,
      "outputs": [
        {
          "output_type": "stream",
          "name": "stdout",
          "text": [
            "BERTopic(calculate_probabilities=False, ctfidf_model=ClassTfidfTransformer(...), embedding_model=<bertopic.backend._sentencetransformers.SentenceTransformerBackend object at 0x7df527966dd0>, hdbscan_model=HDBSCAN(...), language=english, low_memory=False, min_topic_size=10, n_gram_range=(1, 1), nr_topics=10, representation_model=None, seed_topic_list=None, top_n_words=10, umap_model=UMAP(...), vectorizer_model=CountVectorizer(...), verbose=False, zeroshot_min_similarity=0.7, zeroshot_topic_list=None)\n"
          ]
        }
      ]
    }
  ]
}